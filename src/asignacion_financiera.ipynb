{
 "cells": [
  {
   "cell_type": "code",
   "execution_count": 1,
   "id": "c95029fa",
   "metadata": {},
   "outputs": [],
   "source": [
    "import pandas as pd\n",
    "import os"
   ]
  },
  {
   "cell_type": "code",
   "execution_count": null,
   "id": "9bea865f",
   "metadata": {},
   "outputs": [],
   "source": [
    "proyecto=\"cabanaconde\""
   ]
  },
  {
   "cell_type": "code",
   "execution_count": null,
   "id": "3487c412",
   "metadata": {},
   "outputs": [],
   "source": [
    "ruta=os.path.join( \"./output2\", f\"{proyecto}\"_vigente.pkl)\n",
    "cronograma=pd.read(ruta)"
   ]
  }
 ],
 "metadata": {
  "kernelspec": {
   "display_name": ".venv",
   "language": "python",
   "name": "python3"
  },
  "language_info": {
   "codemirror_mode": {
    "name": "ipython",
    "version": 3
   },
   "file_extension": ".py",
   "mimetype": "text/x-python",
   "name": "python",
   "nbconvert_exporter": "python",
   "pygments_lexer": "ipython3",
   "version": "3.12.4"
  }
 },
 "nbformat": 4,
 "nbformat_minor": 5
}
